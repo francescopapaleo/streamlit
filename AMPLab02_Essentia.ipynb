{
  "cells": [
    {
      "cell_type": "markdown",
      "metadata": {
        "id": "view-in-github",
        "colab_type": "text"
      },
      "source": [
        "<a href=\"https://colab.research.google.com/github/francescopapaleo/streamlit/blob/main/AMPLab02_Essentia.ipynb\" target=\"_parent\"><img src=\"https://colab.research.google.com/assets/colab-badge.svg\" alt=\"Open In Colab\"/></a>"
      ]
    },
    {
      "cell_type": "code",
      "execution_count": null,
      "metadata": {
        "colab": {
          "base_uri": "https://localhost:8080/"
        },
        "id": "BiCspQ4vb-zL",
        "outputId": "2472c98d-7a10-4f1f-9b58-35619136a17d"
      },
      "outputs": [
        {
          "name": "stdout",
          "output_type": "stream",
          "text": [
            "Looking in indexes: https://pypi.org/simple, https://us-python.pkg.dev/colab-wheels/public/simple/\n",
            "Collecting essentia-tensorflow\n",
            "  Downloading essentia_tensorflow-2.1b6.dev858-cp38-cp38-manylinux_2_17_x86_64.manylinux2014_x86_64.whl (291.4 MB)\n",
            "\u001b[2K     \u001b[90m━━━━━━━━━━━━━━━━━━━━━━━━━━━━━━━━━━━━━━━\u001b[0m \u001b[32m291.4/291.4 MB\u001b[0m \u001b[31m5.0 MB/s\u001b[0m eta \u001b[36m0:00:00\u001b[0m\n",
            "\u001b[?25hRequirement already satisfied: six in /usr/local/lib/python3.8/dist-packages (from essentia-tensorflow) (1.15.0)\n",
            "Requirement already satisfied: numpy>=1.8.2 in /usr/local/lib/python3.8/dist-packages (from essentia-tensorflow) (1.21.6)\n",
            "Requirement already satisfied: pyyaml in /usr/local/lib/python3.8/dist-packages (from essentia-tensorflow) (6.0)\n",
            "Installing collected packages: essentia-tensorflow\n",
            "Successfully installed essentia-tensorflow-2.1b6.dev858\n",
            "Looking in indexes: https://pypi.org/simple, https://us-python.pkg.dev/colab-wheels/public/simple/\n",
            "Requirement already satisfied: numpy in /usr/local/lib/python3.8/dist-packages (1.21.6)\n",
            "Requirement already satisfied: pandas in /usr/local/lib/python3.8/dist-packages (1.3.5)\n",
            "Requirement already satisfied: scikit-learn in /usr/local/lib/python3.8/dist-packages (1.0.2)\n",
            "Requirement already satisfied: pytz>=2017.3 in /usr/local/lib/python3.8/dist-packages (from pandas) (2022.7.1)\n",
            "Requirement already satisfied: python-dateutil>=2.7.3 in /usr/local/lib/python3.8/dist-packages (from pandas) (2.8.2)\n",
            "Requirement already satisfied: scipy>=1.1.0 in /usr/local/lib/python3.8/dist-packages (from scikit-learn) (1.7.3)\n",
            "Requirement already satisfied: threadpoolctl>=2.0.0 in /usr/local/lib/python3.8/dist-packages (from scikit-learn) (3.1.0)\n",
            "Requirement already satisfied: joblib>=0.11 in /usr/local/lib/python3.8/dist-packages (from scikit-learn) (1.2.0)\n",
            "Requirement already satisfied: six>=1.5 in /usr/local/lib/python3.8/dist-packages (from python-dateutil>=2.7.3->pandas) (1.15.0)\n"
          ]
        }
      ],
      "source": [
        "!pip install essentia-tensorflow\n",
        "!pip install numpy pandas scikit-learn"
      ]
    },
    {
      "cell_type": "code",
      "execution_count": null,
      "metadata": {
        "colab": {
          "base_uri": "https://localhost:8080/"
        },
        "id": "eiHWxgNNa8ga",
        "outputId": "7f109f87-3aee-474b-ff78-a390c05fdecb"
      },
      "outputs": [
        {
          "name": "stdout",
          "output_type": "stream",
          "text": [
            "Mounted at /content/gdrive\n"
          ]
        }
      ],
      "source": [
        "from google.colab import drive\n",
        "drive.mount('/content/gdrive')\n",
        "\n",
        "from google.colab import auth\n",
        "auth.authenticate_user()"
      ]
    },
    {
      "cell_type": "code",
      "execution_count": null,
      "metadata": {
        "id": "1SAL51SNcZl0"
      },
      "outputs": [],
      "source": [
        "import os\n",
        "import sys\n",
        "import matplotlib.pyplot as plt\n",
        "import numpy as np\n",
        "from pathlib import Path\n",
        "import json\n",
        "\n",
        "import essentia.standard as es\n",
        "import pandas as pd\n",
        "\n",
        "import IPython.display as ipd\n",
        "from tqdm import tqdm\n",
        "import concurrent.futures\n",
        "\n",
        "from tempfile import TemporaryDirectory\n",
        "from itertools import chain\n",
        "from concurrent.futures import ProcessPoolExecutor"
      ]
    },
    {
      "cell_type": "code",
      "execution_count": null,
      "metadata": {
        "id": "8Z08XBRGEIiS"
      },
      "outputs": [],
      "source": [
        "DATASET_PATH = Path('/content/gdrive/MyDrive/AMPLAB/MusAV/audio_chunks')\n",
        "MODELS_HOME = Path(\"/content/gdrive/MyDrive/AMPLAB/essetia_playlist/models\")\n",
        "OUTPUT_FILE_PATH = Path(\"/content/gdrive/MyDrive/AMPLAB/essetia_playlist\")"
      ]
    },
    {
      "cell_type": "code",
      "execution_count": null,
      "metadata": {
        "colab": {
          "base_uri": "https://localhost:8080/"
        },
        "id": "AtQ6OM-vLvSU",
        "outputId": "a2536c31-4178-47c5-f4ac-ac66050511d9"
      },
      "outputs": [
        {
          "name": "stdout",
          "output_type": "stream",
          "text": [
            "  % Total    % Received % Xferd  Average Speed   Time    Time     Time  Current\n",
            "                                 Dload  Upload   Total   Spent    Left  Speed\n",
            "100 3163k  100 3163k    0     0   555k      0  0:00:05  0:00:05 --:--:--  751k\n",
            "  % Total    % Received % Xferd  Average Speed   Time    Time     Time  Current\n",
            "                                 Dload  Upload   Total   Spent    Left  Speed\n",
            "100 17.5M  100 17.5M    0     0   697k      0  0:00:25  0:00:25 --:--:--  881k\n",
            "  % Total    % Received % Xferd  Average Speed   Time    Time     Time  Current\n",
            "                                 Dload  Upload   Total   Spent    Left  Speed\n",
            "100 3123k  100 3123k    0     0   552k      0  0:00:05  0:00:05 --:--:--  651k\n",
            "  % Total    % Received % Xferd  Average Speed   Time    Time     Time  Current\n",
            "                                 Dload  Upload   Total   Spent    Left  Speed\n",
            "100 82460  100 82460    0     0  45332      0  0:00:01  0:00:01 --:--:-- 45307\n",
            "  % Total    % Received % Xferd  Average Speed   Time    Time     Time  Current\n",
            "                                 Dload  Upload   Total   Spent    Left  Speed\n",
            "100 11184  100 11184    0     0   496k      0 --:--:-- --:--:-- --:--:--  546k\n"
          ]
        }
      ],
      "source": [
        "! mkdir models\n",
        "! curl -L -o models/voice_instrumental-musicnn-mtt-2.pb \"https://essentia.upf.edu/models/classifiers/voice_instrumental/voice_instrumental-musicnn-mtt-2.pb\"\n",
        "! curl -L -o models/discogs-effnet-bs64-1.pb \"https://essentia.upf.edu/models/music-style-classification/discogs-effnet/discogs-effnet-bs64-1.pb\"\n",
        "! curl -L -o models/msd-musicnn-1.pb \"https://essentia.upf.edu/models/autotagging/msd/msd-musicnn-1.pb\"\n",
        "! curl -L -o models/emomusic-musicnn-msd-2.pb \"https://essentia.upf.edu/models/classification-heads/emomusic/emomusic-musicnn-msd-2.pb\"\n",
        "! curl -L -o models/labels.py \"https://raw.githubusercontent.com/MTG/essentia-replicate-demos/main/effnet-discogs/labels.py\"\n"
      ]
    },
    {
      "cell_type": "code",
      "execution_count": null,
      "metadata": {
        "id": "HfuFC1J7B0dm"
      },
      "outputs": [],
      "source": [
        "# function to get a list of all audio files to be analysed\n",
        "\n",
        "def get_all_files(path):\n",
        "    file_list = []\n",
        "    for root, dirs, files in os.walk(path):\n",
        "        for file in files:\n",
        "            file_list.append(os.path.join(root, file))\n",
        "    return file_list"
      ]
    },
    {
      "cell_type": "code",
      "execution_count": null,
      "metadata": {
        "id": "yA8oaZ6LfNeq"
      },
      "outputs": [],
      "source": [
        "sys.path.append('/content/models/')\n",
        "\n",
        "from labels import labels\n",
        "\n",
        "class AudioFeatures:\n",
        "    def __init__(self):\n",
        "        self.model_effnet = es.TensorflowPredictEffnetDiscogs(graphFilename=\"/content/models/discogs-effnet-bs64-1.pb\")\n",
        "        self.model_vi = es.TensorflowPredictMusiCNN(graphFilename=\"/content/models/voice_instrumental-musicnn-mtt-2.pb\", output='model/dense/BiasAdd')\n",
        "        self.model_av_emb = es.TensorflowPredictMusiCNN(graphFilename=\"/content/models/msd-musicnn-1.pb\", output='model/dense/BiasAdd')\n",
        "        self.model_av = es.TensorflowPredict2D(graphFilename='/content/models/emomusic-musicnn-msd-2.pb', output='model/Identity')\n",
        "\n",
        "    def tempo_dance(self, path_to_file):\n",
        "        audio = es.MonoLoader(filename=path_to_file, sampleRate=44100)()\n",
        "        bpm, beats, beats_confidence, _, beats_intervals = es.RhythmExtractor2013()(audio)\n",
        "        danceability, dfa = es.Danceability()(audio)\n",
        "        return bpm, danceability\n",
        "\n",
        "    def audio_16(self, path_to_file):\n",
        "        audio_load_16 = es.MonoLoader(filename=path_to_file, sampleRate=16000)()\n",
        "        return audio_load_16\n",
        "\n",
        "    def style_ml(self, audio_load_16):\n",
        "        activations = self.model_effnet(audio_load_16)\n",
        "        activations_mean = np.mean(activations, axis=0)\n",
        "\n",
        "        style_idx = np.argmax(activations_mean)\n",
        "        style_label = labels[style_idx]\n",
        "\n",
        "        return style_label\n",
        "\n",
        "    def vi_ml(self, audio_load_16):\n",
        "        activations = self.model_vi(audio_load_16)\n",
        "        v_i_mean = np.mean(activations, axis=0, keepdims=True)[0]\n",
        "\n",
        "        # Scale v_i_mean to a value between 0 and 1 and determine voice-like or instrumental-like\n",
        "        scaled_vi = (v_i_mean + 1) / 2  # Scale to range [0, 1]\n",
        "        if np.all(scaled_vi >= 0.5):\n",
        "          vi_label = \"voice-like\"\n",
        "        else:\n",
        "          vi_label = \"instrumental-like\"\n",
        "        return vi_label\n",
        "        \n",
        "        # Scale v_i_mean to a value between 0 and 1 and determine voice-like or instrumental-like\n",
        "        scaled_vi = (v_i_mean + 1) / 2  # Scale to range [0, 1]\n",
        "        if scaled_vi >= 0.5:\n",
        "          vi_label = \"voice-like\"\n",
        "        else:\n",
        "          vi_label = \"instrumental-like\"\n",
        "\n",
        "    def av_ml(self, audio_load_16):\n",
        "        embeddings = self.model_av_emb(audio_load_16)\n",
        "        activations = self.model_av(embeddings)\n",
        "        activations_mean = np.mean(activations, axis=0, keepdims=True)[0]\n",
        "        valence = activations_mean[0]\n",
        "        arousal = activations_mean[1]\n",
        "        return valence, arousal"
      ]
    },
    {
      "cell_type": "code",
      "execution_count": null,
      "metadata": {
        "id": "VRNeph6lBn3E"
      },
      "outputs": [],
      "source": [
        "files_list = get_all_files(DATASET_PATH)\n",
        "\n",
        "with open(OUTPUT_FILE_PATH / \"get_all_files.json\", \"w\") as f:\n",
        "    json.dump(files_list, f)"
      ]
    },
    {
      "cell_type": "code",
      "execution_count": null,
      "metadata": {
        "colab": {
          "base_uri": "https://localhost:8080/"
        },
        "id": "UbMFA8o6Xoou",
        "outputId": "c59ce90f-0731-490e-eafb-510ac880d8d4"
      },
      "outputs": [
        {
          "name": "stdout",
          "output_type": "stream",
          "text": [
            "['/content/gdrive/MyDrive/AMPLAB/MusAV/audio_chunks/audio.000/1t/1tnci80rcW5LjqQqBwdZsW.mp3', '/content/gdrive/MyDrive/AMPLAB/MusAV/audio_chunks/audio.000/5l/5lx1xGuMvgzCz9pn1eyjWN.mp3', '/content/gdrive/MyDrive/AMPLAB/MusAV/audio_chunks/audio.000/3L/3LUPz3adlCwLL1Yl2IUHqL.mp3', '/content/gdrive/MyDrive/AMPLAB/MusAV/audio_chunks/audio.000/3L/3L0Dg5V8V4XLugW7PXhKdk.mp3', '/content/gdrive/MyDrive/AMPLAB/MusAV/audio_chunks/audio.000/3V/3VqHuw0wFlIHcIPWkhIbdQ.mp3', '/content/gdrive/MyDrive/AMPLAB/MusAV/audio_chunks/audio.000/3V/3v9P4gIW7qO6MJ3MouOIm6.mp3', '/content/gdrive/MyDrive/AMPLAB/MusAV/audio_chunks/audio.000/14/141CcTeiS1Sjt6OIkrwehS.mp3', '/content/gdrive/MyDrive/AMPLAB/MusAV/audio_chunks/audio.000/0w/0wWt6QbecbAC2p49sc0Cs7.mp3', '/content/gdrive/MyDrive/AMPLAB/MusAV/audio_chunks/audio.000/1B/1BlmxzHLMnthuXDKKWHTOB.mp3', '/content/gdrive/MyDrive/AMPLAB/MusAV/audio_chunks/audio.000/67/67xcVP82w8CAh857X0h2lX.mp3']\n"
          ]
        }
      ],
      "source": [
        "# Load the JSON data from a file or a string variable\n",
        "with open('/content/get_all_files.json', 'r') as f:\n",
        "     all_file_list = json.load(f)"
      ]
    },
    {
      "cell_type": "code",
      "execution_count": null,
      "metadata": {
        "colab": {
          "background_save": true,
          "base_uri": "https://localhost:8080/"
        },
        "id": "Te_h3nOPRZbn",
        "outputId": "442289c4-6261-4ab8-893a-415a28bb659b"
      },
      "outputs": [
        {
          "name": "stderr",
          "output_type": "stream",
          "text": [
            " 17%|█▋        | 364/2100 [59:52<4:52:58, 10.13s/it]"
          ]
        }
      ],
      "source": [
        "audio_features = AudioFeatures()\n",
        "\n",
        "with open(\"descriptors_output.json\", \"w\") as f:\n",
        "    for file in tqdm(all_file_list):\n",
        "        audio_features_dict = {}\n",
        "\n",
        "        # Compute the audio features for the current file\n",
        "        audio = audio_features.audio_16(file)\n",
        "        tempo, danceability = audio_features.tempo_dance(file)\n",
        "        style_label = audio_features.style_ml(audio)\n",
        "        vi_label = audio_features.vi_ml(audio)\n",
        "        valence, arousal = audio_features.av_ml(audio)\n",
        "\n",
        "        audio_features_dict['file'] = file\n",
        "        audio_features_dict['tempo'] = float(tempo)\n",
        "        audio_features_dict['danceability'] = float(danceability)\n",
        "        audio_features_dict['valence'] = float(valence)\n",
        "        audio_features_dict['arousal'] = float(arousal)\n",
        "        audio_features_dict['style'] = style_label\n",
        "        audio_features_dict['vi_label'] = vi_label\n",
        "\n",
        "        json.dump(audio_features_dict, f)\n",
        "        f.write('\\n')"
      ]
    },
    {
      "cell_type": "code",
      "execution_count": null,
      "metadata": {
        "colab": {
          "base_uri": "https://localhost:8080/",
          "height": 424
        },
        "id": "QIfBrb2S_E9-",
        "outputId": "cb9d5ba5-5c90-4aef-99a2-9ddf03402d96"
      },
      "outputs": [
        {
          "output_type": "execute_result",
          "data": {
            "text/plain": [
              "                                                   file       tempo  \\\n",
              "0     /content/gdrive/MyDrive/AMPLAB/MusAV/audio_chu...  125.997940   \n",
              "1     /content/gdrive/MyDrive/AMPLAB/MusAV/audio_chu...   99.956627   \n",
              "2     /content/gdrive/MyDrive/AMPLAB/MusAV/audio_chu...  139.767349   \n",
              "3     /content/gdrive/MyDrive/AMPLAB/MusAV/audio_chu...   95.024933   \n",
              "4     /content/gdrive/MyDrive/AMPLAB/MusAV/audio_chu...  123.793266   \n",
              "...                                                 ...         ...   \n",
              "2095  /content/gdrive/MyDrive/AMPLAB/MusAV/audio_chu...   96.994759   \n",
              "2096  /content/gdrive/MyDrive/AMPLAB/MusAV/audio_chu...  133.099304   \n",
              "2097  /content/gdrive/MyDrive/AMPLAB/MusAV/audio_chu...  129.032669   \n",
              "2098  /content/gdrive/MyDrive/AMPLAB/MusAV/audio_chu...  116.832001   \n",
              "2099  /content/gdrive/MyDrive/AMPLAB/MusAV/audio_chu...   89.691925   \n",
              "\n",
              "      danceability   valence   arousal                        style  \\\n",
              "0         4.005003  5.870118  5.283186          Electronic---Techno   \n",
              "1         1.753968  5.004374  5.199041               Hip Hop---Trap   \n",
              "2         1.242303  5.115003  7.934643              Hip Hop---Grime   \n",
              "3         1.130136  4.823322  5.292911  Electronic---Tropical House   \n",
              "4         1.100455  3.484726  6.045059             Rock---Hard Rock   \n",
              "...            ...       ...       ...                          ...   \n",
              "2095      0.979767  5.331085  5.796984                 Pop---Ballad   \n",
              "2096      1.338298  6.005487  6.903127                  Rock---Punk   \n",
              "2097      1.209611  6.102379  7.003244            Latin---Reggaeton   \n",
              "2098      1.287699  5.974061  6.215495          Blues---Texas Blues   \n",
              "2099      1.840706  4.289819  5.868865          Rock---Sludge Metal   \n",
              "\n",
              "               vi_label  \n",
              "0     instrumental-like  \n",
              "1     instrumental-like  \n",
              "2     instrumental-like  \n",
              "3     instrumental-like  \n",
              "4     instrumental-like  \n",
              "...                 ...  \n",
              "2095  instrumental-like  \n",
              "2096  instrumental-like  \n",
              "2097  instrumental-like  \n",
              "2098  instrumental-like  \n",
              "2099  instrumental-like  \n",
              "\n",
              "[2100 rows x 7 columns]"
            ],
            "text/html": [
              "\n",
              "  <div id=\"df-d518e0ac-f266-4b17-9375-ee3bce278c2d\">\n",
              "    <div class=\"colab-df-container\">\n",
              "      <div>\n",
              "<style scoped>\n",
              "    .dataframe tbody tr th:only-of-type {\n",
              "        vertical-align: middle;\n",
              "    }\n",
              "\n",
              "    .dataframe tbody tr th {\n",
              "        vertical-align: top;\n",
              "    }\n",
              "\n",
              "    .dataframe thead th {\n",
              "        text-align: right;\n",
              "    }\n",
              "</style>\n",
              "<table border=\"1\" class=\"dataframe\">\n",
              "  <thead>\n",
              "    <tr style=\"text-align: right;\">\n",
              "      <th></th>\n",
              "      <th>file</th>\n",
              "      <th>tempo</th>\n",
              "      <th>danceability</th>\n",
              "      <th>valence</th>\n",
              "      <th>arousal</th>\n",
              "      <th>style</th>\n",
              "      <th>vi_label</th>\n",
              "    </tr>\n",
              "  </thead>\n",
              "  <tbody>\n",
              "    <tr>\n",
              "      <th>0</th>\n",
              "      <td>/content/gdrive/MyDrive/AMPLAB/MusAV/audio_chu...</td>\n",
              "      <td>125.997940</td>\n",
              "      <td>4.005003</td>\n",
              "      <td>5.870118</td>\n",
              "      <td>5.283186</td>\n",
              "      <td>Electronic---Techno</td>\n",
              "      <td>instrumental-like</td>\n",
              "    </tr>\n",
              "    <tr>\n",
              "      <th>1</th>\n",
              "      <td>/content/gdrive/MyDrive/AMPLAB/MusAV/audio_chu...</td>\n",
              "      <td>99.956627</td>\n",
              "      <td>1.753968</td>\n",
              "      <td>5.004374</td>\n",
              "      <td>5.199041</td>\n",
              "      <td>Hip Hop---Trap</td>\n",
              "      <td>instrumental-like</td>\n",
              "    </tr>\n",
              "    <tr>\n",
              "      <th>2</th>\n",
              "      <td>/content/gdrive/MyDrive/AMPLAB/MusAV/audio_chu...</td>\n",
              "      <td>139.767349</td>\n",
              "      <td>1.242303</td>\n",
              "      <td>5.115003</td>\n",
              "      <td>7.934643</td>\n",
              "      <td>Hip Hop---Grime</td>\n",
              "      <td>instrumental-like</td>\n",
              "    </tr>\n",
              "    <tr>\n",
              "      <th>3</th>\n",
              "      <td>/content/gdrive/MyDrive/AMPLAB/MusAV/audio_chu...</td>\n",
              "      <td>95.024933</td>\n",
              "      <td>1.130136</td>\n",
              "      <td>4.823322</td>\n",
              "      <td>5.292911</td>\n",
              "      <td>Electronic---Tropical House</td>\n",
              "      <td>instrumental-like</td>\n",
              "    </tr>\n",
              "    <tr>\n",
              "      <th>4</th>\n",
              "      <td>/content/gdrive/MyDrive/AMPLAB/MusAV/audio_chu...</td>\n",
              "      <td>123.793266</td>\n",
              "      <td>1.100455</td>\n",
              "      <td>3.484726</td>\n",
              "      <td>6.045059</td>\n",
              "      <td>Rock---Hard Rock</td>\n",
              "      <td>instrumental-like</td>\n",
              "    </tr>\n",
              "    <tr>\n",
              "      <th>...</th>\n",
              "      <td>...</td>\n",
              "      <td>...</td>\n",
              "      <td>...</td>\n",
              "      <td>...</td>\n",
              "      <td>...</td>\n",
              "      <td>...</td>\n",
              "      <td>...</td>\n",
              "    </tr>\n",
              "    <tr>\n",
              "      <th>2095</th>\n",
              "      <td>/content/gdrive/MyDrive/AMPLAB/MusAV/audio_chu...</td>\n",
              "      <td>96.994759</td>\n",
              "      <td>0.979767</td>\n",
              "      <td>5.331085</td>\n",
              "      <td>5.796984</td>\n",
              "      <td>Pop---Ballad</td>\n",
              "      <td>instrumental-like</td>\n",
              "    </tr>\n",
              "    <tr>\n",
              "      <th>2096</th>\n",
              "      <td>/content/gdrive/MyDrive/AMPLAB/MusAV/audio_chu...</td>\n",
              "      <td>133.099304</td>\n",
              "      <td>1.338298</td>\n",
              "      <td>6.005487</td>\n",
              "      <td>6.903127</td>\n",
              "      <td>Rock---Punk</td>\n",
              "      <td>instrumental-like</td>\n",
              "    </tr>\n",
              "    <tr>\n",
              "      <th>2097</th>\n",
              "      <td>/content/gdrive/MyDrive/AMPLAB/MusAV/audio_chu...</td>\n",
              "      <td>129.032669</td>\n",
              "      <td>1.209611</td>\n",
              "      <td>6.102379</td>\n",
              "      <td>7.003244</td>\n",
              "      <td>Latin---Reggaeton</td>\n",
              "      <td>instrumental-like</td>\n",
              "    </tr>\n",
              "    <tr>\n",
              "      <th>2098</th>\n",
              "      <td>/content/gdrive/MyDrive/AMPLAB/MusAV/audio_chu...</td>\n",
              "      <td>116.832001</td>\n",
              "      <td>1.287699</td>\n",
              "      <td>5.974061</td>\n",
              "      <td>6.215495</td>\n",
              "      <td>Blues---Texas Blues</td>\n",
              "      <td>instrumental-like</td>\n",
              "    </tr>\n",
              "    <tr>\n",
              "      <th>2099</th>\n",
              "      <td>/content/gdrive/MyDrive/AMPLAB/MusAV/audio_chu...</td>\n",
              "      <td>89.691925</td>\n",
              "      <td>1.840706</td>\n",
              "      <td>4.289819</td>\n",
              "      <td>5.868865</td>\n",
              "      <td>Rock---Sludge Metal</td>\n",
              "      <td>instrumental-like</td>\n",
              "    </tr>\n",
              "  </tbody>\n",
              "</table>\n",
              "<p>2100 rows × 7 columns</p>\n",
              "</div>\n",
              "      <button class=\"colab-df-convert\" onclick=\"convertToInteractive('df-d518e0ac-f266-4b17-9375-ee3bce278c2d')\"\n",
              "              title=\"Convert this dataframe to an interactive table.\"\n",
              "              style=\"display:none;\">\n",
              "        \n",
              "  <svg xmlns=\"http://www.w3.org/2000/svg\" height=\"24px\"viewBox=\"0 0 24 24\"\n",
              "       width=\"24px\">\n",
              "    <path d=\"M0 0h24v24H0V0z\" fill=\"none\"/>\n",
              "    <path d=\"M18.56 5.44l.94 2.06.94-2.06 2.06-.94-2.06-.94-.94-2.06-.94 2.06-2.06.94zm-11 1L8.5 8.5l.94-2.06 2.06-.94-2.06-.94L8.5 2.5l-.94 2.06-2.06.94zm10 10l.94 2.06.94-2.06 2.06-.94-2.06-.94-.94-2.06-.94 2.06-2.06.94z\"/><path d=\"M17.41 7.96l-1.37-1.37c-.4-.4-.92-.59-1.43-.59-.52 0-1.04.2-1.43.59L10.3 9.45l-7.72 7.72c-.78.78-.78 2.05 0 2.83L4 21.41c.39.39.9.59 1.41.59.51 0 1.02-.2 1.41-.59l7.78-7.78 2.81-2.81c.8-.78.8-2.07 0-2.86zM5.41 20L4 18.59l7.72-7.72 1.47 1.35L5.41 20z\"/>\n",
              "  </svg>\n",
              "      </button>\n",
              "      \n",
              "  <style>\n",
              "    .colab-df-container {\n",
              "      display:flex;\n",
              "      flex-wrap:wrap;\n",
              "      gap: 12px;\n",
              "    }\n",
              "\n",
              "    .colab-df-convert {\n",
              "      background-color: #E8F0FE;\n",
              "      border: none;\n",
              "      border-radius: 50%;\n",
              "      cursor: pointer;\n",
              "      display: none;\n",
              "      fill: #1967D2;\n",
              "      height: 32px;\n",
              "      padding: 0 0 0 0;\n",
              "      width: 32px;\n",
              "    }\n",
              "\n",
              "    .colab-df-convert:hover {\n",
              "      background-color: #E2EBFA;\n",
              "      box-shadow: 0px 1px 2px rgba(60, 64, 67, 0.3), 0px 1px 3px 1px rgba(60, 64, 67, 0.15);\n",
              "      fill: #174EA6;\n",
              "    }\n",
              "\n",
              "    [theme=dark] .colab-df-convert {\n",
              "      background-color: #3B4455;\n",
              "      fill: #D2E3FC;\n",
              "    }\n",
              "\n",
              "    [theme=dark] .colab-df-convert:hover {\n",
              "      background-color: #434B5C;\n",
              "      box-shadow: 0px 1px 3px 1px rgba(0, 0, 0, 0.15);\n",
              "      filter: drop-shadow(0px 1px 2px rgba(0, 0, 0, 0.3));\n",
              "      fill: #FFFFFF;\n",
              "    }\n",
              "  </style>\n",
              "\n",
              "      <script>\n",
              "        const buttonEl =\n",
              "          document.querySelector('#df-d518e0ac-f266-4b17-9375-ee3bce278c2d button.colab-df-convert');\n",
              "        buttonEl.style.display =\n",
              "          google.colab.kernel.accessAllowed ? 'block' : 'none';\n",
              "\n",
              "        async function convertToInteractive(key) {\n",
              "          const element = document.querySelector('#df-d518e0ac-f266-4b17-9375-ee3bce278c2d');\n",
              "          const dataTable =\n",
              "            await google.colab.kernel.invokeFunction('convertToInteractive',\n",
              "                                                     [key], {});\n",
              "          if (!dataTable) return;\n",
              "\n",
              "          const docLinkHtml = 'Like what you see? Visit the ' +\n",
              "            '<a target=\"_blank\" href=https://colab.research.google.com/notebooks/data_table.ipynb>data table notebook</a>'\n",
              "            + ' to learn more about interactive tables.';\n",
              "          element.innerHTML = '';\n",
              "          dataTable['output_type'] = 'display_data';\n",
              "          await google.colab.output.renderOutput(dataTable, element);\n",
              "          const docLink = document.createElement('div');\n",
              "          docLink.innerHTML = docLinkHtml;\n",
              "          element.appendChild(docLink);\n",
              "        }\n",
              "      </script>\n",
              "    </div>\n",
              "  </div>\n",
              "  "
            ]
          },
          "metadata": {},
          "execution_count": 28
        }
      ],
      "source": [
        "pd.read_json(r'/content/gdrive/MyDrive/AMPLAB/essentia_playlist/output.json')"
      ]
    }
  ],
  "metadata": {
    "accelerator": "GPU",
    "colab": {
      "provenance": [],
      "authorship_tag": "ABX9TyPb0RLRGHlHUcL0LW8lhck0",
      "include_colab_link": true
    },
    "gpuClass": "standard",
    "kernelspec": {
      "display_name": "Python 3",
      "name": "python3"
    },
    "language_info": {
      "name": "python"
    }
  },
  "nbformat": 4,
  "nbformat_minor": 0
}