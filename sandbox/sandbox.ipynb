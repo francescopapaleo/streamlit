{
 "cells": [],
 "metadata": {
  "kernelspec": {
   "display_name": "tensorflow",
   "language": "python",
   "name": "python3"
  },
  "language_info": {
   "codemirror_mode": {
    "name": "ipython",
    "version": 3
   },
   "file_extension": ".py",
   "mimetype": "text/x-python",
   "name": "python",
   "nbconvert_exporter": "python",
   "pygments_lexer": "ipython3",
   "version": "3.10.10"
  },
  "orig_nbformat": 4,
  "vscode": {
   "interpreter": {
    "hash": "934776262cbea400f885b802e42a7264402ef1b03f3ceb2b479919474713150c"
   }
  }
 },
 "nbformat": 4,
 "nbformat_minor": 2
}
