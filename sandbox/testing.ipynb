{
 "cells": [
  {
   "cell_type": "code",
   "execution_count": 9,
   "metadata": {},
   "outputs": [
    {
     "name": "stdout",
     "output_type": "stream",
     "text": [
      "Iterate over all objects in the pickle file\n",
      "End of file reached\n"
     ]
    }
   ],
   "source": [
    "from pathlib import Path\n",
    "import pickle\n",
    "import json\n",
    "import pandas as pd\n",
    "\n",
    "DATA_PATH = Path('/Users/francescopapaleo/Dropbox/Mac/Documents/git-box/streamlit/data/')\n",
    "DATA_FILE = 'extended_descriptors_output.pickle'\n",
    "OUTPUT_FILE ='ext_desc_converted.json'\n",
    "\n",
    "\n",
    "# Open the pickle file in binary mode\n",
    "with open(DATA_PATH / DATA_FILE, 'rb') as in_file:\n",
    "    print('Iterate over all objects in the pickle file')\n",
    "    while True:\n",
    "        try:\n",
    "            # Load the next object\n",
    "            data = pickle.load(in_file)\n",
    "            # Do something with the object (print it, process it, etc.)\n",
    "            # print(data)\n",
    "        except EOFError:\n",
    "            print('End of file reached')\n",
    "            break"
   ]
  },
  {
   "cell_type": "code",
   "execution_count": 11,
   "metadata": {},
   "outputs": [
    {
     "name": "stdout",
     "output_type": "stream",
     "text": [
      "--------> Lenght : 406\n",
      "--------> Type : <class 'dict'>\n",
      "--------> Keys : dict_keys(['file_path', 'bpm', 'danceability', 'voice_instru', 'valence', 'arousal', 'Blues---Boogie Woogie', 'Blues---Chicago Blues', 'Blues---Country Blues', 'Blues---Delta Blues', 'Blues---Electric Blues', 'Blues---Harmonica Blues', 'Blues---Jump Blues', 'Blues---Louisiana Blues', 'Blues---Modern Electric Blues', 'Blues---Piano Blues', 'Blues---Rhythm & Blues', 'Blues---Texas Blues', 'Brass & Military---Brass Band', 'Brass & Military---Marches', 'Brass & Military---Military', \"Children's---Educational\", \"Children's---Nursery Rhymes\", \"Children's---Story\", 'Classical---Baroque', 'Classical---Choral', 'Classical---Classical', 'Classical---Contemporary', 'Classical---Impressionist', 'Classical---Medieval', 'Classical---Modern', 'Classical---Neo-Classical', 'Classical---Neo-Romantic', 'Classical---Opera', 'Classical---Post-Modern', 'Classical---Renaissance', 'Classical---Romantic', 'Electronic---Abstract', 'Electronic---Acid', 'Electronic---Acid House', 'Electronic---Acid Jazz', 'Electronic---Ambient', 'Electronic---Bassline', 'Electronic---Beatdown', 'Electronic---Berlin-School', 'Electronic---Big Beat', 'Electronic---Bleep', 'Electronic---Breakbeat', 'Electronic---Breakcore', 'Electronic---Breaks', 'Electronic---Broken Beat', 'Electronic---Chillwave', 'Electronic---Chiptune', 'Electronic---Dance-pop', 'Electronic---Dark Ambient', 'Electronic---Darkwave', 'Electronic---Deep House', 'Electronic---Deep Techno', 'Electronic---Disco', 'Electronic---Disco Polo', 'Electronic---Donk', 'Electronic---Downtempo', 'Electronic---Drone', 'Electronic---Drum n Bass', 'Electronic---Dub', 'Electronic---Dub Techno', 'Electronic---Dubstep', 'Electronic---Dungeon Synth', 'Electronic---EBM', 'Electronic---Electro', 'Electronic---Electro House', 'Electronic---Electroclash', 'Electronic---Euro House', 'Electronic---Euro-Disco', 'Electronic---Eurobeat', 'Electronic---Eurodance', 'Electronic---Experimental', 'Electronic---Freestyle', 'Electronic---Future Jazz', 'Electronic---Gabber', 'Electronic---Garage House', 'Electronic---Ghetto', 'Electronic---Ghetto House', 'Electronic---Glitch', 'Electronic---Goa Trance', 'Electronic---Grime', 'Electronic---Halftime', 'Electronic---Hands Up', 'Electronic---Happy Hardcore', 'Electronic---Hard House', 'Electronic---Hard Techno', 'Electronic---Hard Trance', 'Electronic---Hardcore', 'Electronic---Hardstyle', 'Electronic---Hi NRG', 'Electronic---Hip Hop', 'Electronic---Hip-House', 'Electronic---House', 'Electronic---IDM', 'Electronic---Illbient', 'Electronic---Industrial', 'Electronic---Italo House', 'Electronic---Italo-Disco', 'Electronic---Italodance', 'Electronic---Jazzdance', 'Electronic---Juke', 'Electronic---Jumpstyle', 'Electronic---Jungle', 'Electronic---Latin', 'Electronic---Leftfield', 'Electronic---Makina', 'Electronic---Minimal', 'Electronic---Minimal Techno', 'Electronic---Modern Classical', 'Electronic---Musique Concrète', 'Electronic---Neofolk', 'Electronic---New Age', 'Electronic---New Beat', 'Electronic---New Wave', 'Electronic---Noise', 'Electronic---Nu-Disco', 'Electronic---Power Electronics', 'Electronic---Progressive Breaks', 'Electronic---Progressive House', 'Electronic---Progressive Trance', 'Electronic---Psy-Trance', 'Electronic---Rhythmic Noise', 'Electronic---Schranz', 'Electronic---Sound Collage', 'Electronic---Speed Garage', 'Electronic---Speedcore', 'Electronic---Synth-pop', 'Electronic---Synthwave', 'Electronic---Tech House', 'Electronic---Tech Trance', 'Electronic---Techno', 'Electronic---Trance', 'Electronic---Tribal', 'Electronic---Tribal House', 'Electronic---Trip Hop', 'Electronic---Tropical House', 'Electronic---UK Garage', 'Electronic---Vaporwave', 'Folk, World, & Country---African', 'Folk, World, & Country---Bluegrass', 'Folk, World, & Country---Cajun', 'Folk, World, & Country---Canzone Napoletana', 'Folk, World, & Country---Catalan Music', 'Folk, World, & Country---Celtic', 'Folk, World, & Country---Country', 'Folk, World, & Country---Fado', 'Folk, World, & Country---Flamenco', 'Folk, World, & Country---Folk', 'Folk, World, & Country---Gospel', 'Folk, World, & Country---Highlife', 'Folk, World, & Country---Hillbilly', 'Folk, World, & Country---Hindustani', 'Folk, World, & Country---Honky Tonk', 'Folk, World, & Country---Indian Classical', 'Folk, World, & Country---Laïkó', 'Folk, World, & Country---Nordic', 'Folk, World, & Country---Pacific', 'Folk, World, & Country---Polka', 'Folk, World, & Country---Raï', 'Folk, World, & Country---Romani', 'Folk, World, & Country---Soukous', 'Folk, World, & Country---Séga', 'Folk, World, & Country---Volksmusik', 'Folk, World, & Country---Zouk', 'Folk, World, & Country---Éntekhno', 'Funk / Soul---Afrobeat', 'Funk / Soul---Boogie', 'Funk / Soul---Contemporary R&B', 'Funk / Soul---Disco', 'Funk / Soul---Free Funk', 'Funk / Soul---Funk', 'Funk / Soul---Gospel', 'Funk / Soul---Neo Soul', 'Funk / Soul---New Jack Swing', 'Funk / Soul---P.Funk', 'Funk / Soul---Psychedelic', 'Funk / Soul---Rhythm & Blues', 'Funk / Soul---Soul', 'Funk / Soul---Swingbeat', 'Funk / Soul---UK Street Soul', 'Hip Hop---Bass Music', 'Hip Hop---Boom Bap', 'Hip Hop---Bounce', 'Hip Hop---Britcore', 'Hip Hop---Cloud Rap', 'Hip Hop---Conscious', 'Hip Hop---Crunk', 'Hip Hop---Cut-up/DJ', 'Hip Hop---DJ Battle Tool', 'Hip Hop---Electro', 'Hip Hop---G-Funk', 'Hip Hop---Gangsta', 'Hip Hop---Grime', 'Hip Hop---Hardcore Hip-Hop', 'Hip Hop---Horrorcore', 'Hip Hop---Instrumental', 'Hip Hop---Jazzy Hip-Hop', 'Hip Hop---Miami Bass', 'Hip Hop---Pop Rap', 'Hip Hop---Ragga HipHop', 'Hip Hop---RnB/Swing', 'Hip Hop---Screw', 'Hip Hop---Thug Rap', 'Hip Hop---Trap', 'Hip Hop---Trip Hop', 'Hip Hop---Turntablism', 'Jazz---Afro-Cuban Jazz', 'Jazz---Afrobeat', 'Jazz---Avant-garde Jazz', 'Jazz---Big Band', 'Jazz---Bop', 'Jazz---Bossa Nova', 'Jazz---Contemporary Jazz', 'Jazz---Cool Jazz', 'Jazz---Dixieland', 'Jazz---Easy Listening', 'Jazz---Free Improvisation', 'Jazz---Free Jazz', 'Jazz---Fusion', 'Jazz---Gypsy Jazz', 'Jazz---Hard Bop', 'Jazz---Jazz-Funk', 'Jazz---Jazz-Rock', 'Jazz---Latin Jazz', 'Jazz---Modal', 'Jazz---Post Bop', 'Jazz---Ragtime', 'Jazz---Smooth Jazz', 'Jazz---Soul-Jazz', 'Jazz---Space-Age', 'Jazz---Swing', 'Latin---Afro-Cuban', 'Latin---Baião', 'Latin---Batucada', 'Latin---Beguine', 'Latin---Bolero', 'Latin---Boogaloo', 'Latin---Bossanova', 'Latin---Cha-Cha', 'Latin---Charanga', 'Latin---Compas', 'Latin---Cubano', 'Latin---Cumbia', 'Latin---Descarga', 'Latin---Forró', 'Latin---Guaguancó', 'Latin---Guajira', 'Latin---Guaracha', 'Latin---MPB', 'Latin---Mambo', 'Latin---Mariachi', 'Latin---Merengue', 'Latin---Norteño', 'Latin---Nueva Cancion', 'Latin---Pachanga', 'Latin---Porro', 'Latin---Ranchera', 'Latin---Reggaeton', 'Latin---Rumba', 'Latin---Salsa', 'Latin---Samba', 'Latin---Son', 'Latin---Son Montuno', 'Latin---Tango', 'Latin---Tejano', 'Latin---Vallenato', 'Non-Music---Audiobook', 'Non-Music---Comedy', 'Non-Music---Dialogue', 'Non-Music---Education', 'Non-Music---Field Recording', 'Non-Music---Interview', 'Non-Music---Monolog', 'Non-Music---Poetry', 'Non-Music---Political', 'Non-Music---Promotional', 'Non-Music---Radioplay', 'Non-Music---Religious', 'Non-Music---Spoken Word', 'Pop---Ballad', 'Pop---Bollywood', 'Pop---Bubblegum', 'Pop---Chanson', 'Pop---City Pop', 'Pop---Europop', 'Pop---Indie Pop', 'Pop---J-pop', 'Pop---K-pop', 'Pop---Kayōkyoku', 'Pop---Light Music', 'Pop---Music Hall', 'Pop---Novelty', 'Pop---Parody', 'Pop---Schlager', 'Pop---Vocal', 'Reggae---Calypso', 'Reggae---Dancehall', 'Reggae---Dub', 'Reggae---Lovers Rock', 'Reggae---Ragga', 'Reggae---Reggae', 'Reggae---Reggae-Pop', 'Reggae---Rocksteady', 'Reggae---Roots Reggae', 'Reggae---Ska', 'Reggae---Soca', 'Rock---AOR', 'Rock---Acid Rock', 'Rock---Acoustic', 'Rock---Alternative Rock', 'Rock---Arena Rock', 'Rock---Art Rock', 'Rock---Atmospheric Black Metal', 'Rock---Avantgarde', 'Rock---Beat', 'Rock---Black Metal', 'Rock---Blues Rock', 'Rock---Brit Pop', 'Rock---Classic Rock', 'Rock---Coldwave', 'Rock---Country Rock', 'Rock---Crust', 'Rock---Death Metal', 'Rock---Deathcore', 'Rock---Deathrock', 'Rock---Depressive Black Metal', 'Rock---Doo Wop', 'Rock---Doom Metal', 'Rock---Dream Pop', 'Rock---Emo', 'Rock---Ethereal', 'Rock---Experimental', 'Rock---Folk Metal', 'Rock---Folk Rock', 'Rock---Funeral Doom Metal', 'Rock---Funk Metal', 'Rock---Garage Rock', 'Rock---Glam', 'Rock---Goregrind', 'Rock---Goth Rock', 'Rock---Gothic Metal', 'Rock---Grindcore', 'Rock---Grunge', 'Rock---Hard Rock', 'Rock---Hardcore', 'Rock---Heavy Metal', 'Rock---Indie Rock', 'Rock---Industrial', 'Rock---Krautrock', 'Rock---Lo-Fi', 'Rock---Lounge', 'Rock---Math Rock', 'Rock---Melodic Death Metal', 'Rock---Melodic Hardcore', 'Rock---Metalcore', 'Rock---Mod', 'Rock---Neofolk', 'Rock---New Wave', 'Rock---No Wave', 'Rock---Noise', 'Rock---Noisecore', 'Rock---Nu Metal', 'Rock---Oi', 'Rock---Parody', 'Rock---Pop Punk', 'Rock---Pop Rock', 'Rock---Pornogrind', 'Rock---Post Rock', 'Rock---Post-Hardcore', 'Rock---Post-Metal', 'Rock---Post-Punk', 'Rock---Power Metal', 'Rock---Power Pop', 'Rock---Power Violence', 'Rock---Prog Rock', 'Rock---Progressive Metal', 'Rock---Psychedelic Rock', 'Rock---Psychobilly', 'Rock---Pub Rock', 'Rock---Punk', 'Rock---Rock & Roll', 'Rock---Rockabilly', 'Rock---Shoegaze', 'Rock---Ska', 'Rock---Sludge Metal', 'Rock---Soft Rock', 'Rock---Southern Rock', 'Rock---Space Rock', 'Rock---Speed Metal', 'Rock---Stoner Rock', 'Rock---Surf', 'Rock---Symphonic Rock', 'Rock---Technical Death Metal', 'Rock---Thrash', 'Rock---Twist', 'Rock---Viking Metal', 'Rock---Yé-Yé', 'Stage & Screen---Musical', 'Stage & Screen---Score', 'Stage & Screen---Soundtrack', 'Stage & Screen---Theme'])\n"
     ]
    }
   ],
   "source": [
    "### PRINTING SOME INFO ###\n",
    "\n",
    "print('--------> Lenght :', len(data))\n",
    "\n",
    "print('--------> Type :', type(data))\n",
    "\n",
    "print('--------> Keys :', data.keys())\n",
    "\n",
    "# print('--------> Values :', data.values())\n",
    "\n",
    "# print('--------> Items :', data.items())"
   ]
  },
  {
   "cell_type": "code",
   "execution_count": null,
   "metadata": {},
   "outputs": [],
   "source": [
    "# create a list of dictionaries\n",
    "dict_container = []\n",
    "for file_path, features in data.items():\n",
    "    # convert any float values in features to a list\n",
    "    features = [features] if isinstance(features, float) else features\n",
    "    \n",
    "    # create a dictionary for each file_path and features\n",
    "    feature_dict = {\"file_path\": file_path}\n",
    "    feature_dict.update({f\"feature_{i}\": float(val) for i, val in enumerate(features)})\n",
    "    dict_container.append(feature_dict)\n",
    "\n",
    "# create a DataFrame\n",
    "df = pd.DataFrame(dict_container)"
   ]
  },
  {
   "cell_type": "code",
   "execution_count": 22,
   "metadata": {},
   "outputs": [
    {
     "ename": "TypeError",
     "evalue": "'float' object is not iterable",
     "output_type": "error",
     "traceback": [
      "\u001b[0;31m---------------------------------------------------------------------------\u001b[0m",
      "\u001b[0;31mTypeError\u001b[0m                                 Traceback (most recent call last)",
      "Cell \u001b[0;32mIn[22], line 14\u001b[0m\n\u001b[1;32m     11\u001b[0m \u001b[39mfor\u001b[39;00m file_path, features \u001b[39min\u001b[39;00m data\u001b[39m.\u001b[39mitems():\n\u001b[1;32m     12\u001b[0m     \u001b[39m# create a dictionary for each file_path and features\u001b[39;00m\n\u001b[1;32m     13\u001b[0m     feature_dict \u001b[39m=\u001b[39m {\u001b[39m\"\u001b[39m\u001b[39mfile_path\u001b[39m\u001b[39m\"\u001b[39m: file_path}\n\u001b[0;32m---> 14\u001b[0m     \u001b[39mfor\u001b[39;00m i, val \u001b[39min\u001b[39;00m \u001b[39menumerate\u001b[39;49m(features):\n\u001b[1;32m     15\u001b[0m         \u001b[39mif\u001b[39;00m pd\u001b[39m.\u001b[39misnull(val):\n\u001b[1;32m     16\u001b[0m             val \u001b[39m=\u001b[39m \u001b[39m\"\u001b[39m\u001b[39mN/A\u001b[39m\u001b[39m\"\u001b[39m  \u001b[39m# replace missing or NaN values with \"N/A\"\u001b[39;00m\n",
      "\u001b[0;31mTypeError\u001b[0m: 'float' object is not iterable"
     ]
    }
   ],
   "source": [
    "import pandas as pd\n",
    "import pickle\n",
    "import numpy as np\n",
    "\n",
    "# load the pickle file\n",
    "with open(DATA_PATH / DATA_FILE, 'rb') as handle:\n",
    "    data = pickle.load(handle)\n",
    "\n",
    "# create a list of dictionaries\n",
    "dict_container = []\n",
    "for file_path, features in data.items():\n",
    "    # create a dictionary for each file_path and features\n",
    "    feature_dict = {\"file_path\": file_path}\n",
    "    for i, val in enumerate(features):\n",
    "        if pd.isnull(val):\n",
    "            val = \"N/A\"  # replace missing or NaN values with \"N/A\"\n",
    "        feature_dict[f\"feature_{i}\"] = val\n",
    "    dict_container.append(feature_dict)\n",
    "\n",
    "# create a DataFrame\n",
    "df = pd.DataFrame(dict_container)\n"
   ]
  },
  {
   "cell_type": "code",
   "execution_count": 20,
   "metadata": {},
   "outputs": [
    {
     "data": {
      "text/plain": [
       "(406, 2)"
      ]
     },
     "execution_count": 20,
     "metadata": {},
     "output_type": "execute_result"
    }
   ],
   "source": [
    "df.shape"
   ]
  },
  {
   "cell_type": "code",
   "execution_count": 21,
   "metadata": {},
   "outputs": [
    {
     "data": {
      "text/html": [
       "<div>\n",
       "<style scoped>\n",
       "    .dataframe tbody tr th:only-of-type {\n",
       "        vertical-align: middle;\n",
       "    }\n",
       "\n",
       "    .dataframe tbody tr th {\n",
       "        vertical-align: top;\n",
       "    }\n",
       "\n",
       "    .dataframe thead th {\n",
       "        text-align: right;\n",
       "    }\n",
       "</style>\n",
       "<table border=\"1\" class=\"dataframe\">\n",
       "  <thead>\n",
       "    <tr style=\"text-align: right;\">\n",
       "      <th></th>\n",
       "      <th>file_path</th>\n",
       "      <th>feature</th>\n",
       "    </tr>\n",
       "  </thead>\n",
       "  <tbody>\n",
       "    <tr>\n",
       "      <th>0</th>\n",
       "      <td>file_path</td>\n",
       "      <td>audio.000/1t/1tnci80rcW5LjqQqBwdZsW.mp3</td>\n",
       "    </tr>\n",
       "    <tr>\n",
       "      <th>1</th>\n",
       "      <td>bpm</td>\n",
       "      <td>125.99794</td>\n",
       "    </tr>\n",
       "    <tr>\n",
       "      <th>2</th>\n",
       "      <td>danceability</td>\n",
       "      <td>4.005003</td>\n",
       "    </tr>\n",
       "    <tr>\n",
       "      <th>3</th>\n",
       "      <td>voice_instru</td>\n",
       "      <td>0.507735</td>\n",
       "    </tr>\n",
       "    <tr>\n",
       "      <th>4</th>\n",
       "      <td>valence</td>\n",
       "      <td>5.870118</td>\n",
       "    </tr>\n",
       "    <tr>\n",
       "      <th>5</th>\n",
       "      <td>arousal</td>\n",
       "      <td>5.283186</td>\n",
       "    </tr>\n",
       "    <tr>\n",
       "      <th>6</th>\n",
       "      <td>Blues---Boogie Woogie</td>\n",
       "      <td>0.0</td>\n",
       "    </tr>\n",
       "    <tr>\n",
       "      <th>7</th>\n",
       "      <td>Blues---Chicago Blues</td>\n",
       "      <td>0.0</td>\n",
       "    </tr>\n",
       "    <tr>\n",
       "      <th>8</th>\n",
       "      <td>Blues---Country Blues</td>\n",
       "      <td>0.0</td>\n",
       "    </tr>\n",
       "    <tr>\n",
       "      <th>9</th>\n",
       "      <td>Blues---Delta Blues</td>\n",
       "      <td>0.0</td>\n",
       "    </tr>\n",
       "    <tr>\n",
       "      <th>10</th>\n",
       "      <td>Blues---Electric Blues</td>\n",
       "      <td>0.0</td>\n",
       "    </tr>\n",
       "    <tr>\n",
       "      <th>11</th>\n",
       "      <td>Blues---Harmonica Blues</td>\n",
       "      <td>0.0</td>\n",
       "    </tr>\n",
       "    <tr>\n",
       "      <th>12</th>\n",
       "      <td>Blues---Jump Blues</td>\n",
       "      <td>0.0</td>\n",
       "    </tr>\n",
       "    <tr>\n",
       "      <th>13</th>\n",
       "      <td>Blues---Louisiana Blues</td>\n",
       "      <td>0.0</td>\n",
       "    </tr>\n",
       "    <tr>\n",
       "      <th>14</th>\n",
       "      <td>Blues---Modern Electric Blues</td>\n",
       "      <td>0.0</td>\n",
       "    </tr>\n",
       "  </tbody>\n",
       "</table>\n",
       "</div>"
      ],
      "text/plain": [
       "                        file_path                                  feature\n",
       "0                       file_path  audio.000/1t/1tnci80rcW5LjqQqBwdZsW.mp3\n",
       "1                             bpm                                125.99794\n",
       "2                    danceability                                 4.005003\n",
       "3                    voice_instru                                 0.507735\n",
       "4                         valence                                 5.870118\n",
       "5                         arousal                                 5.283186\n",
       "6           Blues---Boogie Woogie                                      0.0\n",
       "7           Blues---Chicago Blues                                      0.0\n",
       "8           Blues---Country Blues                                      0.0\n",
       "9             Blues---Delta Blues                                      0.0\n",
       "10         Blues---Electric Blues                                      0.0\n",
       "11        Blues---Harmonica Blues                                      0.0\n",
       "12             Blues---Jump Blues                                      0.0\n",
       "13        Blues---Louisiana Blues                                      0.0\n",
       "14  Blues---Modern Electric Blues                                      0.0"
      ]
     },
     "execution_count": 21,
     "metadata": {},
     "output_type": "execute_result"
    }
   ],
   "source": [
    "df.head(15)"
   ]
  },
  {
   "cell_type": "code",
   "execution_count": null,
   "metadata": {},
   "outputs": [],
   "source": []
  }
 ],
 "metadata": {
  "kernelspec": {
   "display_name": "tensorflow",
   "language": "python",
   "name": "python3"
  },
  "language_info": {
   "codemirror_mode": {
    "name": "ipython",
    "version": 3
   },
   "file_extension": ".py",
   "mimetype": "text/x-python",
   "name": "python",
   "nbconvert_exporter": "python",
   "pygments_lexer": "ipython3",
   "version": "3.10.10"
  },
  "orig_nbformat": 4,
  "vscode": {
   "interpreter": {
    "hash": "934776262cbea400f885b802e42a7264402ef1b03f3ceb2b479919474713150c"
   }
  }
 },
 "nbformat": 4,
 "nbformat_minor": 2
}
